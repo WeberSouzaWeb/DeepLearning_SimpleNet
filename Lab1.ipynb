{
 "cells": [
  {
   "cell_type": "markdown",
   "id": "ca65ebb8",
   "metadata": {},
   "source": [
    "# <font color='blue'>Data Science Academy</font>\n",
    "# <font color='blue'>Deep Learning Para Aplicações de IA com PyTorch e Lightning</font>\n",
    "\n",
    "## <font color='blue'>Lab 1</font>\n",
    "## <font color='blue'>Anatomia de Uma Rede Neural Artificial com PyTorch e Lightning</font>"
   ]
  },
  {
   "cell_type": "markdown",
   "id": "5a5a84ed",
   "metadata": {},
   "source": [
    "![title](imagens/Lab1.png)"
   ]
  },
  {
   "cell_type": "markdown",
   "id": "95445cb6",
   "metadata": {},
   "source": [
    "## Instalando e Carregando os Pacotes"
   ]
  },
  {
   "cell_type": "code",
   "execution_count": null,
   "id": "bec063db",
   "metadata": {},
   "outputs": [],
   "source": [
    "# Versão da Linguagem Python\n",
    "from platform import python_version\n",
    "print('Versão da Linguagem Python Usada Neste Jupyter Notebook:', python_version())"
   ]
  },
  {
   "cell_type": "code",
   "execution_count": null,
   "id": "732b4f1c",
   "metadata": {},
   "outputs": [],
   "source": [
    "# Para atualizar um pacote, execute o comando abaixo no terminal ou prompt de comando:\n",
    "# pip install -U nome_pacote\n",
    "\n",
    "# Para instalar a versão exata de um pacote, execute o comando abaixo no terminal ou prompt de comando:\n",
    "# !pip install nome_pacote==versão_desejada\n",
    "\n",
    "# Depois de instalar ou atualizar o pacote, reinicie o jupyter notebook.\n",
    "\n",
    "# Instala o pacote watermark. \n",
    "# Esse pacote é usado para gravar as versões de outros pacotes usados neste jupyter notebook.\n",
    "!pip install -q -U watermark"
   ]
  },
  {
   "cell_type": "code",
   "execution_count": null,
   "id": "f4bfc7b2",
   "metadata": {},
   "outputs": [],
   "source": [
    "!pip install torch==1.13.0+cu116 --extra-index-url https://download.pytorch.org/whl/cu116"
   ]
  },
  {
   "cell_type": "code",
   "execution_count": null,
   "id": "9ed110fd",
   "metadata": {},
   "outputs": [],
   "source": [
    "!pip install -q pytorch-lightning==1.8.3"
   ]
  },
  {
   "cell_type": "code",
   "execution_count": null,
   "id": "5f7d4c9e",
   "metadata": {},
   "outputs": [],
   "source": [
    "# Imports\n",
    "import gc\n",
    "import types\n",
    "import pkg_resources\n",
    "import torch\n",
    "import pytorch_lightning as pl\n",
    "from torch import nn, optim\n",
    "from torch.autograd import Variable\n",
    "from torch.utils.data import DataLoader\n",
    "from pytorch_lightning.callbacks import ModelCheckpoint\n",
    "#from pytorch_lightning.utilities.types import TRAIN_DATALOADERS\n",
    "import warnings\n",
    "warnings.filterwarnings(\"ignore\")"
   ]
  },
  {
   "cell_type": "code",
   "execution_count": null,
   "id": "832b36e3",
   "metadata": {
    "scrolled": true
   },
   "outputs": [],
   "source": [
    "# Versões dos pacotes usados neste jupyter notebook\n",
    "%reload_ext watermark\n",
    "%watermark -a \"Data Science Academy\" --iversions"
   ]
  },
  {
   "cell_type": "markdown",
   "id": "344bd7d3",
   "metadata": {},
   "source": [
    "## Verificando o Ambiente de Desenvolvimento"
   ]
  },
  {
   "cell_type": "code",
   "execution_count": null,
   "id": "9b4e9c52",
   "metadata": {},
   "outputs": [],
   "source": [
    "# Verificando o dispositivo\n",
    "processing_device = \"cuda\" if torch.cuda.is_available() else \"cpu\""
   ]
  },
  {
   "cell_type": "code",
   "execution_count": null,
   "id": "2eae8e12",
   "metadata": {},
   "outputs": [],
   "source": [
    "print(processing_device)"
   ]
  },
  {
   "cell_type": "code",
   "execution_count": null,
   "id": "5454b34b",
   "metadata": {},
   "outputs": [],
   "source": [
    "# Verificando se GPU pode ser usada (isso depende da plataforma CUDA estar instalada)\n",
    "torch_aval = torch.cuda.is_available()"
   ]
  },
  {
   "cell_type": "code",
   "execution_count": null,
   "id": "b2206011",
   "metadata": {},
   "outputs": [],
   "source": [
    "print(torch_aval)"
   ]
  },
  {
   "cell_type": "code",
   "execution_count": null,
   "id": "df144da6",
   "metadata": {},
   "outputs": [],
   "source": [
    "# Labels para o relatório de verificação\n",
    "lable_1 = 'Visão Geral do Ambiente'\n",
    "lable_2 = 'Se NVIDIA-SMI não for encontrado, então CUDA não está disponível'\n",
    "lable_3 = 'Fim da Checagem'"
   ]
  },
  {
   "cell_type": "code",
   "execution_count": null,
   "id": "080c5f11",
   "metadata": {},
   "outputs": [],
   "source": [
    "# Função para verificar o que está importado nesta sessão\n",
    "def get_imports():\n",
    "\n",
    "    for name, val in globals().items():\n",
    "        if isinstance(val, types.ModuleType):\n",
    "            name = val.__name__.split(\".\")[0]\n",
    "\n",
    "        elif isinstance(val, type):            \n",
    "            name = val.__module__.split(\".\")[0]\n",
    "\n",
    "        poorly_named_packages = {\"PIL\": \"Pillow\", \"sklearn\": \"scikit-learn\"}\n",
    "\n",
    "        if name in poorly_named_packages.keys():\n",
    "            name = poorly_named_packages[name]\n",
    "\n",
    "        yield name"
   ]
  },
  {
   "cell_type": "code",
   "execution_count": null,
   "id": "494160d2",
   "metadata": {},
   "outputs": [],
   "source": [
    "# Imports nesta sessão\n",
    "imports = list(set(get_imports()))"
   ]
  },
  {
   "cell_type": "code",
   "execution_count": null,
   "id": "61cff7b8",
   "metadata": {
    "scrolled": false
   },
   "outputs": [],
   "source": [
    "print(imports)"
   ]
  },
  {
   "cell_type": "code",
   "execution_count": null,
   "id": "48477783",
   "metadata": {},
   "outputs": [],
   "source": [
    "# Loop para verificar os requerimentos\n",
    "requirements = []\n",
    "for m in pkg_resources.working_set:\n",
    "    if m.project_name in imports and m.project_name!=\"pip\":\n",
    "        requirements.append((m.project_name, m.version))"
   ]
  },
  {
   "cell_type": "code",
   "execution_count": null,
   "id": "f1ead721",
   "metadata": {},
   "outputs": [],
   "source": [
    "print(requirements)"
   ]
  },
  {
   "cell_type": "code",
   "execution_count": null,
   "id": "ddad9de2",
   "metadata": {},
   "outputs": [],
   "source": [
    "# Pasta com os dados (quando necessário)\n",
    "pasta_dados = r'dados'"
   ]
  },
  {
   "cell_type": "code",
   "execution_count": null,
   "id": "cf7b0cea",
   "metadata": {},
   "outputs": [],
   "source": [
    "print(f'{lable_1:-^100}')\n",
    "print()\n",
    "print(f\"Pasta de Dados: \", pasta_dados)\n",
    "print(f\"Versões dos Pacotes Requeridos: \", requirements)\n",
    "print(f\"Dispositivo Que Será Usado Para Treinar o Modelo: \", processing_device)\n",
    "print(f\"CUDA Está Disponível? \", torch_aval)\n",
    "print(\"Versão do PyTorch: \", torch.__version__)\n",
    "print(\"Versão do Lightning: \", pl.__version__)\n",
    "print()\n",
    "print(f'{lable_2:-^100}')\n",
    "!nvidia-smi\n",
    "gc.collect()\n",
    "print()\n",
    "print(f\"Limpando a Memória da GPU (se disponível): \", torch.cuda.empty_cache())\n",
    "print(f'{lable_3:-^100}')"
   ]
  },
  {
   "cell_type": "markdown",
   "id": "2bdd9dcd",
   "metadata": {},
   "source": [
    "> Se CUDA estiver instalado, a saída do comando nvidia-smi seria parecida com esta:"
   ]
  },
  {
   "cell_type": "markdown",
   "id": "c8d258a8",
   "metadata": {},
   "source": [
    "![title](imagens/nvidia-smi.png)"
   ]
  },
  {
   "cell_type": "markdown",
   "id": "324822b9",
   "metadata": {},
   "source": [
    "> Abaixo o relatório completo em uma única célula:"
   ]
  },
  {
   "cell_type": "code",
   "execution_count": null,
   "id": "e073216f",
   "metadata": {},
   "outputs": [],
   "source": [
    "# Relatório completo\n",
    "\n",
    "# Verificando o dispositivo\n",
    "processing_device = \"cuda\" if torch.cuda.is_available() else \"cpu\"\n",
    "\n",
    "# Verificando se GPU pode ser usada (isso depende da plataforma CUDA estar instalada)\n",
    "torch_aval = torch.cuda.is_available()\n",
    "\n",
    "# Labels para o relatório de verificação\n",
    "lable_1 = 'Visão Geral do Ambiente'\n",
    "lable_2 = 'Se NVIDIA-SMI não for encontrado, então CUDA não está disponível'\n",
    "lable_3 = 'Fim da Checagem'\n",
    "\n",
    "# Função para verificar o que está importado nesta sessão\n",
    "def get_imports():\n",
    "\n",
    "    for name, val in globals().items():\n",
    "        if isinstance(val, types.ModuleType):\n",
    "            name = val.__name__.split(\".\")[0]\n",
    "\n",
    "        elif isinstance(val, type):            \n",
    "            name = val.__module__.split(\".\")[0]\n",
    "\n",
    "        poorly_named_packages = {\"PIL\": \"Pillow\", \"sklearn\": \"scikit-learn\"}\n",
    "\n",
    "        if name in poorly_named_packages.keys():\n",
    "            name = poorly_named_packages[name]\n",
    "\n",
    "        yield name\n",
    "\n",
    "# Imports nesta sessão\n",
    "imports = list(set(get_imports()))\n",
    "\n",
    "# Loop para verificar os requerimentos\n",
    "requirements = []\n",
    "for m in pkg_resources.working_set:\n",
    "    if m.project_name in imports and m.project_name!=\"pip\":\n",
    "        requirements.append((m.project_name, m.version))\n",
    "        \n",
    "# Pasta com os dados (quando necessário)\n",
    "pasta_dados = r'dados'\n",
    "\n",
    "print(f'{lable_1:-^100}')\n",
    "print()\n",
    "print(f\"Pasta de Dados: \", pasta_dados)\n",
    "print(f\"Versões dos Pacotes Requeridos: \", requirements)\n",
    "print(f\"Dispositivo Que Será Usado Para Treinar o Modelo: \", processing_device)\n",
    "print(f\"CUDA Está Disponível? \", torch_aval)\n",
    "print(\"Versão do PyTorch: \", torch.__version__)\n",
    "print(\"Versão do Lightning: \", pl.__version__)\n",
    "print()\n",
    "print(f'{lable_2:-^100}\\n')\n",
    "!nvidia-smi\n",
    "gc.collect()\n",
    "print()\n",
    "print(f\"Limpando a Memória da GPU (se disponível): \", torch.cuda.empty_cache())\n",
    "print(f'\\n{lable_3:-^100}')"
   ]
  },
  {
   "cell_type": "markdown",
   "id": "96164926",
   "metadata": {},
   "source": [
    "## Datasets e DataLoaders"
   ]
  },
  {
   "cell_type": "code",
   "execution_count": null,
   "id": "89625109",
   "metadata": {},
   "outputs": [],
   "source": [
    "# Dados de entrada\n",
    "dados_entrada = [Variable(torch.Tensor([0, 0])), \n",
    "                 Variable(torch.Tensor([0, 1])),\n",
    "                 Variable(torch.Tensor([1, 0])),\n",
    "                 Variable(torch.Tensor([1, 1]))]"
   ]
  },
  {
   "cell_type": "code",
   "execution_count": null,
   "id": "ef31ff22",
   "metadata": {},
   "outputs": [],
   "source": [
    "# Dados de saída\n",
    "dados_saida = [Variable(torch.Tensor([0])),\n",
    "               Variable(torch.Tensor([1])),\n",
    "               Variable(torch.Tensor([1])),\n",
    "               Variable(torch.Tensor([0]))]"
   ]
  },
  {
   "cell_type": "code",
   "execution_count": null,
   "id": "04bb9cb3",
   "metadata": {},
   "outputs": [],
   "source": [
    "type(dados_entrada)"
   ]
  },
  {
   "cell_type": "code",
   "execution_count": null,
   "id": "52e60554",
   "metadata": {},
   "outputs": [],
   "source": [
    "type(dados_saida)"
   ]
  },
  {
   "cell_type": "code",
   "execution_count": null,
   "id": "e8c70fe4",
   "metadata": {},
   "outputs": [],
   "source": [
    "# Dataset final\n",
    "dados_final = list(zip(dados_entrada, dados_saida))"
   ]
  },
  {
   "cell_type": "code",
   "execution_count": null,
   "id": "a6f7ab41",
   "metadata": {},
   "outputs": [],
   "source": [
    "type(dados_final)"
   ]
  },
  {
   "cell_type": "code",
   "execution_count": null,
   "id": "27145f16",
   "metadata": {},
   "outputs": [],
   "source": [
    "dados_final"
   ]
  },
  {
   "cell_type": "code",
   "execution_count": null,
   "id": "bd6b8009",
   "metadata": {},
   "outputs": [],
   "source": [
    "# Prepara o data loader\n",
    "loader_treinamento = DataLoader(dados_final, batch_size = 1)"
   ]
  },
  {
   "cell_type": "code",
   "execution_count": null,
   "id": "00347cff",
   "metadata": {},
   "outputs": [],
   "source": [
    "type(loader_treinamento)"
   ]
  },
  {
   "cell_type": "markdown",
   "id": "552abf79",
   "metadata": {},
   "source": [
    "## Simple Net - Construindo o Primeiro Modelo com PyTorch e Lightning"
   ]
  },
  {
   "cell_type": "markdown",
   "id": "0a2e93f4",
   "metadata": {},
   "source": [
    "https://pytorch.org/docs/stable/generated/torch.nn.Linear.html\n",
    "\n",
    "https://pytorch.org/docs/stable/generated/torch.nn.Sigmoid.html\n",
    "\n",
    "https://pytorch.org/docs/stable/generated/torch.nn.MSELoss.html\n",
    "\n",
    "https://pytorch.org/docs/stable/optim.html\n",
    "\n",
    "https://pytorch.org/docs/stable/generated/torch.optim.Adam.html\n",
    "\n",
    "https://www.deeplearningbook.com.br/algoritmo-backpropagation-parte-2-treinamento-de-redes-neurais/"
   ]
  },
  {
   "cell_type": "code",
   "execution_count": null,
   "id": "1a55e804",
   "metadata": {},
   "outputs": [],
   "source": [
    "class SimpleNet(pl.LightningModule):\n",
    "  \n",
    "    # Método construtor\n",
    "    # Usado para inicializar os parâmetros do modelo\n",
    "    def __init__(self):\n",
    "\n",
    "        super(SimpleNet, self).__init__()  # SimpleNet tem previlegios para executar qualquer coisa LightinModule\n",
    "        \n",
    "        # Atributos da minha classe. Self é indicacao da SimpleNet\n",
    "        self.input_layer = nn.Linear(2, 4)  # Camada de entrada       nn é um pacote do torch\n",
    "        self.output_layer = nn.Linear(4, 1) # Camada de saida\n",
    "        self.sigmoid = nn.Sigmoid()         # Função de Ativação\n",
    "        self.loss = nn.MSELoss()            # Função de Perda\n",
    "\n",
    "    # Método da passada para frente (forward)\n",
    "    def forward(self, input):\n",
    "        x = self.input_layer(input)\n",
    "        x = self.sigmoid(x)\n",
    "        output = self.output_layer(x)\n",
    "        return output\n",
    "\n",
    "    # Método de otimização\n",
    "    def configure_optimizers(self):\n",
    "        params = self.parameters()\n",
    "        optimizer = optim.Adam(params = params, lr = 0.01)  # Aplica uma otimizacao usando Adam,lr é velocidade de treinamento (learning rate )\n",
    "        return optimizer\n",
    "\n",
    "    # Método das passadas de treinamento\n",
    "    def training_step(self, batch, batch_idx):   # batch registro de entradas\n",
    "        entrada, saida = batch\n",
    "        outputs = self(entrada) \n",
    "        loss = self.loss(outputs, saida)         # Função de perda\n",
    "        return loss "
   ]
  },
  {
   "cell_type": "markdown",
   "id": "bf1c4ff8",
   "metadata": {},
   "source": [
    "**Compreendendo as dimensões em nn.Linear(2, 4)**\n",
    "\n",
    "Especificação da função: torch.nn.Linear(in_features, out_features, bias=True)\n",
    "\n",
    "- in_features – Tamanho da matriz dos dados de entrada. Em nosso exemplo 2 x 4.\n",
    "\n",
    "- out_features – Tamanho da matriz dos dados de saída. Em nosso exemplo valor 4 x 1.\n",
    "\n",
    "- bias - Valor aditivo (padrão igual a True).\n",
    "\n",
    "Para que a multiplicação de matrizes aconteça, usamos a primeira dimensão de input e a primeira dimensão de output. Em nosso exemplo 2 x 4.\n",
    "\n",
    "Cada valor de entrada será multiplicado por um valor de peso e ao final o modelo aprende os valores ideais dos pesos que representa a relação entre dados de entrada e saída.\n",
    "\n",
    "Observe que usamos batch_size igual a 1 e nesse caso cada registro é uma unidade, o que influencia na dimensão das matrizes de dados.\n",
    "\n",
    "Para facilitar a visualização use o link abaixo:\n",
    "\n",
    "https://matrix.reshish.com/multiplication.php\n",
    "\n",
    "**Compreendendo as dimensões em nn.Linear(4, 1)**\n",
    "\n",
    "Aqui a primeira dimensão (4) é a saída da camada anterior. A segunda dimensão (1) é o número de previsões para cada. amostra de entrada."
   ]
  },
  {
   "cell_type": "markdown",
   "id": "78d3c2b9",
   "metadata": {},
   "source": [
    "## Loop de Treinamento"
   ]
  },
  {
   "cell_type": "code",
   "execution_count": null,
   "id": "9c3865c3",
   "metadata": {},
   "outputs": [],
   "source": [
    "# Cria o modelo\n",
    "modelo = SimpleNet()"
   ]
  },
  {
   "cell_type": "code",
   "execution_count": null,
   "id": "d2ae79b0",
   "metadata": {},
   "outputs": [],
   "source": [
    "# Cria o callback de checkpoint\n",
    "checkpoint_callback = ModelCheckpoint()"
   ]
  },
  {
   "cell_type": "code",
   "execution_count": null,
   "id": "57896651",
   "metadata": {},
   "outputs": [],
   "source": [
    "# Cria o trainer\n",
    "trainer = pl.Trainer(devices = 1,\n",
    "                     accelerator = 'cpu',\n",
    "                     max_epochs = 100,                  # Passada de treinamento\n",
    "                     callbacks = [checkpoint_callback])"
   ]
  },
  {
   "cell_type": "code",
   "execution_count": null,
   "id": "0452b005",
   "metadata": {},
   "outputs": [],
   "source": [
    "# Treinamento\n",
    "trainer.fit(modelo, train_dataloaders = loader_treinamento)"
   ]
  },
  {
   "cell_type": "code",
   "execution_count": null,
   "id": "73d337a4",
   "metadata": {},
   "outputs": [],
   "source": [
    "# Qual dispositivo foi usado no modelo?\n",
    "modelo.device "
   ]
  },
  {
   "cell_type": "code",
   "execution_count": null,
   "id": "d4472f01",
   "metadata": {},
   "outputs": [],
   "source": [
    "# Qual a arquitetura do modelo?\n",
    "modelo.eval()"
   ]
  },
  {
   "cell_type": "code",
   "execution_count": null,
   "id": "12d24b66",
   "metadata": {
    "scrolled": true
   },
   "outputs": [],
   "source": [
    "# Resumo completo do modelo\n",
    "modelo.state_dict()"
   ]
  },
  {
   "cell_type": "code",
   "execution_count": null,
   "id": "c1dc3f8a",
   "metadata": {},
   "outputs": [],
   "source": [
    "ls lightning_logs/*/  # Ver conteudo da pasta"
   ]
  },
  {
   "cell_type": "markdown",
   "id": "079d8eee",
   "metadata": {},
   "source": [
    "## Avaliação do Modelo"
   ]
  },
  {
   "cell_type": "code",
   "execution_count": null,
   "id": "105e1158",
   "metadata": {},
   "outputs": [],
   "source": [
    "# Extrai o melhor modelo do checkpoint\n",
    "melhor_modelo = (checkpoint_callback.best_model_path)"
   ]
  },
  {
   "cell_type": "code",
   "execution_count": null,
   "id": "003a356e",
   "metadata": {},
   "outputs": [],
   "source": [
    "print(melhor_modelo)"
   ]
  },
  {
   "cell_type": "code",
   "execution_count": null,
   "id": "60f8c344",
   "metadata": {},
   "outputs": [],
   "source": [
    "# Carrega o modelo do último checkpoint\n",
    "modelo_final = modelo.load_from_checkpoint(checkpoint_callback.best_model_path)"
   ]
  },
  {
   "cell_type": "code",
   "execution_count": null,
   "id": "3c36b54d",
   "metadata": {},
   "outputs": [],
   "source": [
    "modelo_final.state_dict()"
   ]
  },
  {
   "cell_type": "code",
   "execution_count": null,
   "id": "e8018f10",
   "metadata": {},
   "outputs": [],
   "source": [
    "# Novo registro de entrada\n",
    "novo_dado_entrada_A = Variable(torch.Tensor([1, 1]))"
   ]
  },
  {
   "cell_type": "code",
   "execution_count": null,
   "id": "c07ba801",
   "metadata": {},
   "outputs": [],
   "source": [
    "# Faz a previsão\n",
    "pred_A = modelo_final(novo_dado_entrada_A)"
   ]
  },
  {
   "cell_type": "code",
   "execution_count": null,
   "id": "60d20095",
   "metadata": {},
   "outputs": [],
   "source": [
    "print(pred_A)"
   ]
  },
  {
   "cell_type": "code",
   "execution_count": null,
   "id": "37916bf3",
   "metadata": {},
   "outputs": [],
   "source": [
    "print('A previsão de classe de pred_A é: ', int(pred_A.round()))"
   ]
  },
  {
   "cell_type": "code",
   "execution_count": null,
   "id": "531cbe64",
   "metadata": {},
   "outputs": [],
   "source": [
    "# Novos dados de entrada\n",
    "novos_dados = [Variable(torch.Tensor([1, 1])), \n",
    "               Variable(torch.Tensor([0, 0])),\n",
    "               Variable(torch.Tensor([1, 0])),\n",
    "               Variable(torch.Tensor([0, 1]))]"
   ]
  },
  {
   "cell_type": "code",
   "execution_count": null,
   "id": "e2e24c64",
   "metadata": {},
   "outputs": [],
   "source": [
    "# Loop de teste\n",
    "for val in novos_dados:\n",
    "    \n",
    "    # Faz a previsão de cada registro\n",
    "    previsao = modelo_final(val)\n",
    "    \n",
    "    # Imprime o resultado\n",
    "    print([int(val [0]), int(val [1])], int(previsao.round()))"
   ]
  },
  {
   "cell_type": "code",
   "execution_count": null,
   "id": "4e35755a",
   "metadata": {},
   "outputs": [],
   "source": [
    "# Versões dos pacotes usados neste jupyter notebook\n",
    "%reload_ext watermark\n",
    "%watermark -a \"Data Science Academy\" --iversions"
   ]
  },
  {
   "cell_type": "markdown",
   "id": "516256ab",
   "metadata": {},
   "source": [
    "# Fim"
   ]
  }
 ],
 "metadata": {
  "kernelspec": {
   "display_name": "Python 3 (ipykernel)",
   "language": "python",
   "name": "python3"
  },
  "language_info": {
   "codemirror_mode": {
    "name": "ipython",
    "version": 3
   },
   "file_extension": ".py",
   "mimetype": "text/x-python",
   "name": "python",
   "nbconvert_exporter": "python",
   "pygments_lexer": "ipython3",
   "version": "3.9.13"
  }
 },
 "nbformat": 4,
 "nbformat_minor": 5
}
